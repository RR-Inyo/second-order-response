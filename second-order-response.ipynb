{
 "cells": [
  {
   "cell_type": "markdown",
   "metadata": {},
   "source": [
    "# 2次遅れ系の周波数応答と時間応答\n",
    "(c) Copyright 2020 @RR_Inyo"
   ]
  },
  {
   "cell_type": "code",
   "execution_count": 1,
   "metadata": {},
   "outputs": [],
   "source": [
    "## 準備\n",
    "%matplotlib inline\n",
    "from control.matlab import *\n",
    "import numpy as np\n",
    "import sympy as sp\n",
    "import matplotlib.pyplot as plt"
   ]
  },
  {
   "cell_type": "markdown",
   "metadata": {},
   "source": [
    "## システムの定義\n",
    "2次遅れ系の標準的な伝達関数を下に示す。\n",
    "$$\n",
    "G(s) = \\frac{\\omega_{n}^{2}}{s^{2} + 2 \\zeta \\omega_{n} s + \\omega_{n}^{2}}\n",
    "$$\n",
    "ここで，仮に$\\omega_{n} = 2 \\pi f_{n}$，$f_{n} = 500$ $\\mathrm{Hz}$としてボード線図をプロットする。\n",
    "また，サンプリング周波数$f_{s} = 10$ $\\mathrm{kHz}$（サンプリング周期$T_{s} = 100$ $\\mu\\mathrm{s}$）として双一次変換を適用し，離散系に変換した場合についても示す。\n",
    "ここでは例として，2次バターワース特性となる$\\zeta = 1 / \\sqrt{2}$の場合を示す。後述するが，この場合はボード線図においてゲインはピーク値を持たないが，ステップ応答はオーバーシュート<sup>※</sup>を示す。\n",
    "\n",
    "※ 感染症の爆発的な感染拡大を意味する言葉ではない。"
   ]
  },
  {
   "cell_type": "code",
   "execution_count": 2,
   "metadata": {},
   "outputs": [],
   "source": [
    "f_n = 500\n",
    "zeta = 1 / np.sqrt(2)\n",
    "#zeta = 1 / 4\n",
    "omega_n = 2 * np.pi * f_n\n",
    "T_s = 1 / 10e3\n",
    " \n",
    "# 連続時間\n",
    "G = tf([0, omega_n**2], [1, 2 * zeta * omega_n, omega_n**2])\n",
    " \n",
    "# 離散時間\n",
    "G_d = c2d(G, T_s, method = 'tustin')"
   ]
  },
  {
   "cell_type": "markdown",
   "metadata": {},
   "source": [
    "## ボード線図\n",
    "Python Control Systems Libraryを用いて，下記のように計算できる。"
   ]
  },
  {
   "cell_type": "code",
   "execution_count": 3,
   "metadata": {},
   "outputs": [
    {
     "data": {
      "text/plain": [
       "<matplotlib.legend.Legend at 0xe24afb0>"
      ]
     },
     "execution_count": 3,
     "metadata": {},
     "output_type": "execute_result"
    },
    {
     "data": {
      "image/png": "[encoded data removed]",
      "text/plain": [
       "<Figure size 720x432 with 2 Axes>"
      ]
     },
     "metadata": {
      "needs_background": "light"
     },
     "output_type": "display_data"
    }
   ],
   "source": [
    "fig, ax = plt.subplots(2, 1, figsize = (10, 6))\n",
    " \n",
    "# 連続時間\n",
    "gain, phase, omega = bode(G, np.logspace(2, 6), Hz = True, Plot = False)\n",
    "ax[0].semilogx(omega / (2 * np.pi), 20*np.log10(gain), ls = '-', label = 'Continuous')\n",
    "ax[1].semilogx(omega / (2 * np.pi), phase * 180 / np.pi, ls = '-', label = 'Continuous')\n",
    " \n",
    "# 離散時間\n",
    "gain_d, phase_d, omega_d = bode(G_d, np.logspace(2, 6), Hz = True, Plot = False)\n",
    "ax[0].semilogx(omega_d / (2 * np.pi), 20*np.log10(gain_d), ls = '-.', label = 'Tustin')\n",
    "ax[1].semilogx(omega_d / (2 * np.pi), phase_d * 180 / np.pi, ls = '-.', label = 'Tustin')\n",
    "\n",
    "## ゲイン線図設定\n",
    "ax[0].set_ylabel('Gain [dB]')\n",
    "ax[0].set_ylim(-40, 10)\n",
    "ax[0].grid()\n",
    "ax[0].legend()\n",
    "\n",
    "## 位相線図設定\n",
    "ax[1].set_xlabel('Frequency [Hz]')\n",
    "ax[1].set_ylabel('Phase [deg]')\n",
    "ax[1].set_ylim(-180, 180)\n",
    "ax[1].set_yticks(range(-180, 210, 30))\n",
    "ax[1].grid()\n",
    "ax[1].legend()"
   ]
  },
  {
   "cell_type": "code",
   "execution_count": 4,
   "metadata": {},
   "outputs": [
    {
     "name": "stdout",
     "output_type": "stream",
     "text": [
      "理論値: 1.0\n",
      "数値解: 0.9999994867012824\n"
     ]
    }
   ],
   "source": [
    "# 連続系のゲイン最大値\n",
    "print('理論値:', 1 / (2 * zeta * np.sqrt(1 - zeta**2))) # 説明後述\n",
    "print('数値解:', np.max(gain))"
   ]
  },
  {
   "cell_type": "markdown",
   "metadata": {},
   "source": [
    "ここで，SymPyを用いて連続系のボード線図のピーク値を求める。"
   ]
  },
  {
   "cell_type": "code",
   "execution_count": 5,
   "metadata": {},
   "outputs": [
    {
     "data": {
      "text/latex": [
       "$\\displaystyle \\frac{\\omega_{n}^{2}}{- \\omega^{2} + 2 i \\omega \\omega_{n} \\zeta + \\omega_{n}^{2}}$"
      ],
      "text/plain": [
       "omega_n**2/(-omega**2 + 2*I*omega*omega_n*zeta + omega_n**2)"
      ]
     },
     "execution_count": 5,
     "metadata": {},
     "output_type": "execute_result"
    }
   ],
   "source": [
    "# シンボル定義\n",
    "omega = sp.Symbol('omega', real = True, positive = True)\n",
    "zeta = sp.Symbol('zeta', real = True, positive = True)\n",
    "omega_n = sp.Symbol('omega_n', real = True, positive = True)\n",
    "\n",
    "# Sympy周波数伝達関数\n",
    "G_sp = omega_n**2 / ((sp.I * omega)**2 + 2 * zeta * omega_n * (sp.I * omega) + omega_n**2)\n",
    "G_sp"
   ]
  },
  {
   "cell_type": "markdown",
   "metadata": {},
   "source": [
    "$G_{sp}(j \\omega)$の絶対値$|G_{sp}(j \\omega)|$が最大になる$\\omega$とそのときの$|G_{sp}(j \\omega)|$を求める。"
   ]
  },
  {
   "cell_type": "code",
   "execution_count": 6,
   "metadata": {},
   "outputs": [
    {
     "data": {
      "text/latex": [
       "$\\displaystyle \\frac{\\omega_{n}^{2}}{\\sqrt{\\omega^{4} + 4 \\omega^{2} \\omega_{n}^{2} \\zeta^{2} - 2 \\omega^{2} \\omega_{n}^{2} + \\omega_{n}^{4}}}$"
      ],
      "text/plain": [
       "omega_n**2/sqrt(omega**4 + 4*omega**2*omega_n**2*zeta**2 - 2*omega**2*omega_n**2 + omega_n**4)"
      ]
     },
     "execution_count": 6,
     "metadata": {},
     "output_type": "execute_result"
    }
   ],
   "source": [
    "# Sympy伝達関数絶対値\n",
    "G_spabs = sp.simplify(sp.Abs(G_sp))\n",
    "G_spabs"
   ]
  },
  {
   "cell_type": "code",
   "execution_count": 7,
   "metadata": {},
   "outputs": [
    {
     "data": {
      "text/latex": [
       "$\\displaystyle \\frac{2 \\omega \\omega_{n}^{2} \\left(- \\omega^{2} - 2 \\omega_{n}^{2} \\zeta^{2} + \\omega_{n}^{2}\\right)}{\\left(\\omega^{4} + 4 \\omega^{2} \\omega_{n}^{2} \\zeta^{2} - 2 \\omega^{2} \\omega_{n}^{2} + \\omega_{n}^{4}\\right)^{\\frac{3}{2}}}$"
      ],
      "text/plain": [
       "2*omega*omega_n**2*(-omega**2 - 2*omega_n**2*zeta**2 + omega_n**2)/(omega**4 + 4*omega**2*omega_n**2*zeta**2 - 2*omega**2*omega_n**2 + omega_n**4)**(3/2)"
      ]
     },
     "execution_count": 7,
     "metadata": {},
     "output_type": "execute_result"
    }
   ],
   "source": [
    "# Sympy伝達関数絶対値の微分\n",
    "G_spabsdiff = sp.simplify(sp.diff(G_spabs, omega))\n",
    "G_spabsdiff"
   ]
  },
  {
   "cell_type": "code",
   "execution_count": 8,
   "metadata": {},
   "outputs": [
    {
     "data": {
      "text/latex": [
       "$\\displaystyle \\omega_{n} \\sqrt{1 - 2 \\zeta^{2}}$"
      ],
      "text/plain": [
       "omega_n*sqrt(1 - 2*zeta**2)"
      ]
     },
     "execution_count": 8,
     "metadata": {},
     "output_type": "execute_result"
    }
   ],
   "source": [
    "# Sympy伝達関数絶対値の微分が零になるomegaを求める\n",
    "[omega_peak1, omega_peak2] = sp.solve(G_spabsdiff, omega)\n",
    "omega_peak2"
   ]
  },
  {
   "cell_type": "code",
   "execution_count": 9,
   "metadata": {},
   "outputs": [
    {
     "data": {
      "text/latex": [
       "$\\displaystyle \\frac{1}{2 \\zeta \\sqrt{1 - \\zeta^{2}}}$"
      ],
      "text/plain": [
       "1/(2*zeta*sqrt(1 - zeta**2))"
      ]
     },
     "execution_count": 9,
     "metadata": {},
     "output_type": "execute_result"
    }
   ],
   "source": [
    "G_sppeak = sp.simplify(G_spabs.subs(omega, omega_peak2))\n",
    "G_sppeak"
   ]
  },
  {
   "cell_type": "markdown",
   "metadata": {},
   "source": [
    "以上をまとめると，（連続系での）2次遅れ系のボード線図は\n",
    "$$\\omega = \\omega_{p} = \\omega_{n} \\sqrt{1 - 2 \\zeta^{2}}$$\n",
    "のときに最大値\n",
    "$$|G_{sp} (j \\omega_{p})| = \\frac{1}{2 \\zeta \\sqrt{1 - \\zeta^{2}}}$$\n",
    "をとる。\n",
    "$\\zeta > 1 / \\sqrt{2}$の場合，$\\omega_{p}$の根号内が負となって$\\omega_{p}$は虚数となるため，ボード線図はピークを持たない。一方，$|G_{sp} (j \\omega_p)|$は$1 / \\sqrt{2} < \\zeta \\leq 1$の区間で依然として実数値を持つが，この区間では上述のように$\\omega_{p}$が虚数となってしまうため，実質的には意味をなさない。"
   ]
  },
  {
   "cell_type": "markdown",
   "metadata": {},
   "source": [
    "## 時間応答\n",
    "同様に，Python Control Libraryを用いてステップ応答を求めると，下記となる。"
   ]
  },
  {
   "cell_type": "code",
   "execution_count": 10,
   "metadata": {},
   "outputs": [
    {
     "data": {
      "text/plain": [
       "<matplotlib.legend.Legend at 0xe4e6d70>"
      ]
     },
     "execution_count": 10,
     "metadata": {},
     "output_type": "execute_result"
    },
    {
     "data": {
      "image/png": "[encoded data removed]",
      "text/plain": [
       "<Figure size 720x432 with 1 Axes>"
      ]
     },
     "metadata": {
      "needs_background": "light"
     },
     "output_type": "display_data"
    }
   ],
   "source": [
    "t_0 = np.arange(0, 5e-3, 10e-3 / 2048)\n",
    "t_d0 = np.arange(0, 5e-3 + T_s, T_s)\n",
    "\n",
    "y, t = step(sys = G, T = t_0)\n",
    "y_d, t_d = step(sys = G_d, T  = t_d0)\n",
    "\n",
    "fig, ax = plt.subplots(figsize = (10, 6))\n",
    "ax.plot(t * 1000, y, ls = '-', label = 'Continuous')\n",
    "ax.step(t_d * 1000, y_d, ls = '-', where = 'post', label = 'Tustin')\n",
    "ax.set_xlabel('Time [ms]')\n",
    "ax.set_ylabel('Output')\n",
    "ax.grid()\n",
    "ax.legend()"
   ]
  },
  {
   "cell_type": "code",
   "execution_count": null,
   "metadata": {},
   "outputs": [],
   "source": []
  }
 ],
 "metadata": {
  "kernelspec": {
   "display_name": "Python 3",
   "language": "python",
   "name": "python3"
  },
  "language_info": {
   "codemirror_mode": {
    "name": "ipython",
    "version": 3
   },
   "file_extension": ".py",
   "mimetype": "text/x-python",
   "name": "python",
   "nbconvert_exporter": "python",
   "pygments_lexer": "ipython3",
   "version": "3.7.7"
  }
 },
 "nbformat": 4,
 "nbformat_minor": 4
}
